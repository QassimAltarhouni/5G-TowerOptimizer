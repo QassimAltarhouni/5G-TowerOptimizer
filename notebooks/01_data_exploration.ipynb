{
 "cells": [
  {
   "cell_type": "code",
   "execution_count": 1,
   "id": "12a3638c-4f9f-42b8-bce1-d96d24e0355c",
   "metadata": {},
   "outputs": [],
   "source": [
    "import os\n",
    "import sys\n",
    "sys.path.append(\"../src\")"
   ]
  },
  {
   "cell_type": "code",
   "execution_count": 3,
   "id": "2befb8aa-49b1-4153-8334-88181695b4f7",
   "metadata": {},
   "outputs": [],
   "source": [
    "from data_loader import load_opencellid_data\n",
    "from real_user_generator import generate_users_from_population_raster\n",
    "from visualizer import plot_towers_on_map"
   ]
  },
  {
   "cell_type": "code",
   "execution_count": 4,
   "id": "e779f62d-38be-4aed-9de9-440e7f0ff220",
   "metadata": {},
   "outputs": [
    {
     "name": "stdout",
     "output_type": "stream",
     "text": [
      "['radio', 'mcc', 'net', 'area', 'cell', 'unit', 'lon', 'lat', 'range', 'samples', 'changeable', 'created', 'updated', 'averageSignal']\n",
      "radio\n",
      "LTE     166592\n",
      "GSM      45259\n",
      "UMTS     12804\n",
      "NR         463\n",
      "CDMA         1\n",
      "Name: count, dtype: int64\n"
     ]
    }
   ],
   "source": [
    "file_path = \"../data/germany.csv.gz\"\n",
    "df = load_opencellid_data(file_path)\n",
    "\n",
    "print(df.columns.tolist())\n",
    "print(df['radio'].value_counts())\n",
    "df_5g = df[df['radio'].str.upper() == 'NR'].copy()"
   ]
  },
  {
   "cell_type": "code",
   "execution_count": 5,
   "id": "1ca77530-c4bb-427e-af73-a4d942850196",
   "metadata": {},
   "outputs": [],
   "source": [
    "if df_5g.empty:\n",
    "    print(\"❌ No 5G Network here!\")\n",
    "else:\n",
    "    lat_min, lat_max = df_5g['lat'].min(), df_5g['lat'].max()\n",
    "    lon_min, lon_max = df_5g['lon'].min(), df_5g['lon'].max()\n",
    "    TIF_PATH = \"../data/deu_ppp_2020_constrained.tif\"\n",
    "    TIF_PATH = \"../data/deu_ppp_2020_constrained.tif\"\n",
    "    users = generate_users_from_population_raster(TIF_PATH, sample_count=100000)\n",
    "\n",
    "    m = plot_towers_on_map(\n",
    "        df_5g,\n",
    "        map_center=[(lat_min + lat_max)/2, (lon_min + lon_max)/2],\n",
    "        df_users=users\n",
    "    )\n",
    "\n",
    "    # Create folder for my outputs\n",
    "    os.makedirs(\"../outputs/figures\", exist_ok=True)\n",
    "    os.makedirs(\"../outputs/cleaned_data\", exist_ok=True)\n",
    "\n",
    "    # Get the country name\n",
    "    file_base = os.path.basename(file_path).replace(\".csv.gz\", \"\")\n",
    "\n",
    "    # Save my map and show\n",
    "    m.save(f\"../outputs/figures/{file_base}_5g_map.html\")\n",
    "    df_5g.to_csv(f\"../outputs/cleaned_data/{file_base}_5g_towers.csv\", index=False)\n",
    "    users.to_csv(f\"../outputs/cleaned_data/{file_base}_users.csv\", index=False)\n"
   ]
  },
  {
   "cell_type": "code",
   "execution_count": null,
   "id": "565c425f-f457-4337-810c-4f3a208cb205",
   "metadata": {},
   "outputs": [],
   "source": [
    "    m"
   ]
  },
  {
   "cell_type": "code",
   "execution_count": null,
   "id": "6f32b18a-c595-46c4-966d-d2d3c7a05ee6",
   "metadata": {},
   "outputs": [],
   "source": []
  }
 ],
 "metadata": {
  "kernelspec": {
   "display_name": "Python 3 (ipykernel)",
   "language": "python",
   "name": "python3"
  },
  "language_info": {
   "codemirror_mode": {
    "name": "ipython",
    "version": 3
   },
   "file_extension": ".py",
   "mimetype": "text/x-python",
   "name": "python",
   "nbconvert_exporter": "python",
   "pygments_lexer": "ipython3",
   "version": "3.13.2"
  }
 },
 "nbformat": 4,
 "nbformat_minor": 5
}
